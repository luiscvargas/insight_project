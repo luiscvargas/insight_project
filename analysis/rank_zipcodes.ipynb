{
 "cells": [
  {
   "cell_type": "code",
   "execution_count": 96,
   "metadata": {
    "collapsed": true
   },
   "outputs": [],
   "source": [
    "%matplotlib inline\n",
    "import matplotlib as mpl\n",
    "import numpy as np\n",
    "import pandas as pd\n",
    "import matplotlib.pyplot as plt\n",
    "import api_import \n",
    "import simplejson as json"
   ]
  },
  {
   "cell_type": "code",
   "execution_count": 104,
   "metadata": {
    "collapsed": false
   },
   "outputs": [],
   "source": [
    "yelp = pd.read_json(\"../data/yelp/yelp_api_data.json\")\n",
    "with open(\"../data/yelp/yelp_api_data.json\") as fp:\n",
    "    json1_str = fp.read() \n",
    "    yelp = json.loads(json1_str)\n",
    "cuisine_types = yelp.keys()\n",
    "with open(\"../data/yelp/cuisine_types_enabled.dat\",\"w\") as fp:\n",
    "    fp.write(\"\\n\".join(cuisine_types))"
   ]
  },
  {
   "cell_type": "code",
   "execution_count": 105,
   "metadata": {
    "collapsed": false
   },
   "outputs": [
    {
     "data": {
      "text/plain": [
       "['puertorican',\n",
       " 'cuban',\n",
       " 'latin',\n",
       " 'mexican',\n",
       " 'chinese',\n",
       " 'vegetarian',\n",
       " 'indpak',\n",
       " 'japanese',\n",
       " 'greek',\n",
       " 'tradamerican',\n",
       " 'newamerican',\n",
       " 'italian']"
      ]
     },
     "execution_count": 105,
     "metadata": {},
     "output_type": "execute_result"
    }
   ],
   "source": [
    "cuisine_types"
   ]
  },
  {
   "cell_type": "code",
   "execution_count": 108,
   "metadata": {
    "collapsed": true
   },
   "outputs": [],
   "source": [
    "food_dict = {\"puertorico\": \"puertorican\",\n",
    "\"puertorican\": \"puertorican\",\n",
    "\"cuba\": \"cuban\",\n",
    "\"cuban\": \"cuban\",\n",
    "\"latin\" : \"latin\",\n",
    "\"latino\": \"latin\",\n",
    "\"mexican\": \"mexican\",\n",
    "\"mex\": \"mexican\",\n",
    "\"mexico\": \"mexican\",\n",
    "\"chinese\": \"chinese\",\n",
    "\"china\": \"chinese\",\n",
    "\"veggie\": \"vegetarian\",\n",
    "\"vegetarian\": \"vegetarian\",\n",
    "\"indian\": \"indpak\",\n",
    "\"india\": \"indpak\",\n",
    "\"japan\": \"japanese\",\n",
    "\"japanese\": \"japanese\",\n",
    "\"greek\": \"greek\",\n",
    "\"american\": \"tradamerican\",\n",
    "\"modern\": \"newamerican\",\n",
    "\"italy\": \"italian\",\n",
    "\"italian\": \"italian\"\n",
    "}"
   ]
  },
  {
   "cell_type": "code",
   "execution_count": 112,
   "metadata": {
    "collapsed": false
   },
   "outputs": [
    {
     "data": {
      "text/plain": [
       "{'american': 'tradamerican',\n",
       " 'china': 'chinese',\n",
       " 'chinese': 'chinese',\n",
       " 'cuba': 'cuban',\n",
       " 'cuban': 'cuban',\n",
       " 'greek': 'greek',\n",
       " 'india': 'indpak',\n",
       " 'indian': 'indpak',\n",
       " 'italian': 'italian',\n",
       " 'italy': 'italian',\n",
       " 'japan': 'japanese',\n",
       " 'japanese': 'japanese',\n",
       " 'latin': 'latin',\n",
       " 'latino': 'latin',\n",
       " 'mex': 'mexican',\n",
       " 'mexican': 'mexican',\n",
       " 'mexico': 'mexican',\n",
       " 'modern': 'newamerican',\n",
       " 'puertorican': 'puertorican',\n",
       " 'puertorico': 'puertorican',\n",
       " 'vegetarian': 'vegetarian',\n",
       " 'veggie': 'vegetarian'}"
      ]
     },
     "execution_count": 112,
     "metadata": {},
     "output_type": "execute_result"
    }
   ],
   "source": [
    "food_dict"
   ]
  },
  {
   "cell_type": "code",
   "execution_count": 144,
   "metadata": {
    "collapsed": false
   },
   "outputs": [
    {
     "data": {
      "text/plain": [
       "list"
      ]
     },
     "execution_count": 144,
     "metadata": {},
     "output_type": "execute_result"
    }
   ],
   "source": [
    "import string\n",
    "with open(\"../app/static/dat/cuisine_types_enabled.dat\") as fp:\n",
    "    cuisine_types = fp.read()\n",
    "cuisine_types = cuisine_types.split()\n",
    "type(cuisine_types)\n",
    "#cuisine_types = [string.capwords(x) for x in cuisine_types]\n",
    "#cuisine_types = [x for x in cuisine_types]\n",
    "#cuisine_types"
   ]
  },
  {
   "cell_type": "code",
   "execution_count": 120,
   "metadata": {
    "collapsed": false
   },
   "outputs": [],
   "source": [
    "with open(\"../data/yelp/cuisine_types_enabled.json\",\"w\") as fp:\n",
    "    json.dump(food_dict,fp)"
   ]
  },
  {
   "cell_type": "code",
   "execution_count": 121,
   "metadata": {
    "collapsed": false
   },
   "outputs": [],
   "source": [
    "with open(\"../data/yelp/cuisine_types_enabled.json\",\"r\") as fp:\n",
    "    cuisine_dict = json.load(fp)"
   ]
  },
  {
   "cell_type": "code",
   "execution_count": 95,
   "metadata": {
    "collapsed": false
   },
   "outputs": [
    {
     "data": {
      "text/html": [
       "<div style=\"max-height:1000px;max-width:1500px;overflow:auto;\">\n",
       "<table border=\"1\" class=\"dataframe\">\n",
       "  <thead>\n",
       "    <tr style=\"text-align: right;\">\n",
       "      <th></th>\n",
       "      <th>ALAND</th>\n",
       "      <th>ALAND_SQMI</th>\n",
       "      <th>AWATER</th>\n",
       "      <th>AWATER_SQMI</th>\n",
       "      <th>BOROUGH</th>\n",
       "      <th>FRAC_LAND</th>\n",
       "      <th>GEOID</th>\n",
       "      <th>INTPTLAT</th>\n",
       "      <th>INTPTLONG</th>\n",
       "      <th>LATMAX</th>\n",
       "      <th>...</th>\n",
       "      <th>unweighed_average_rating_restaurants_italian</th>\n",
       "      <th>unweighed_average_rating_restaurants_japanese</th>\n",
       "      <th>unweighed_average_rating_restaurants_latin</th>\n",
       "      <th>unweighed_average_rating_restaurants_mexican</th>\n",
       "      <th>unweighed_average_rating_restaurants_newamerican</th>\n",
       "      <th>unweighed_average_rating_restaurants_puertorican</th>\n",
       "      <th>unweighed_average_rating_restaurants_tradamerican</th>\n",
       "      <th>unweighed_average_rating_restaurants_vegetarian</th>\n",
       "      <th>zillow_house_index</th>\n",
       "      <th>zillow_house_median</th>\n",
       "    </tr>\n",
       "  </thead>\n",
       "  <tbody>\n",
       "    <tr>\n",
       "      <th>10001</th>\n",
       "      <td>346238</td>\n",
       "      <td>0.133</td>\n",
       "      <td>0</td>\n",
       "      <td>0.000</td>\n",
       "      <td>Manhattan</td>\n",
       "      <td>1.000000</td>\n",
       "      <td>72122017100</td>\n",
       "      <td>40.747402</td>\n",
       "      <td>-73.990328</td>\n",
       "      <td>81.498550</td>\n",
       "      <td>...</td>\n",
       "      <td>6.583333</td>\n",
       "      <td>6.483333</td>\n",
       "      <td>NaN</td>\n",
       "      <td>6.333333</td>\n",
       "      <td>7.708333</td>\n",
       "      <td>NaN</td>\n",
       "      <td>6.671429</td>\n",
       "      <td>8.250000</td>\n",
       "      <td>0</td>\n",
       "      <td>0</td>\n",
       "    </tr>\n",
       "    <tr>\n",
       "      <th>10002</th>\n",
       "      <td>2063151</td>\n",
       "      <td>0.797</td>\n",
       "      <td>1249217</td>\n",
       "      <td>0.482</td>\n",
       "      <td>Manhattan</td>\n",
       "      <td>0.622863</td>\n",
       "      <td>468793019212</td>\n",
       "      <td>40.715444</td>\n",
       "      <td>-73.984217</td>\n",
       "      <td>529.328659</td>\n",
       "      <td>...</td>\n",
       "      <td>26.770833</td>\n",
       "      <td>13.833333</td>\n",
       "      <td>14.200</td>\n",
       "      <td>15.000000</td>\n",
       "      <td>19.267974</td>\n",
       "      <td>NaN</td>\n",
       "      <td>22.375000</td>\n",
       "      <td>8.000000</td>\n",
       "      <td>0</td>\n",
       "      <td>0</td>\n",
       "    </tr>\n",
       "    <tr>\n",
       "      <th>10003</th>\n",
       "      <td>1097625</td>\n",
       "      <td>0.424</td>\n",
       "      <td>0</td>\n",
       "      <td>0.000</td>\n",
       "      <td>Manhattan</td>\n",
       "      <td>1.000000</td>\n",
       "      <td>288488038102</td>\n",
       "      <td>40.730343</td>\n",
       "      <td>-73.989634</td>\n",
       "      <td>325.855934</td>\n",
       "      <td>...</td>\n",
       "      <td>24.237179</td>\n",
       "      <td>30.475000</td>\n",
       "      <td>12.125</td>\n",
       "      <td>23.410256</td>\n",
       "      <td>29.725000</td>\n",
       "      <td>NaN</td>\n",
       "      <td>28.351190</td>\n",
       "      <td>26.233333</td>\n",
       "      <td>0</td>\n",
       "      <td>0</td>\n",
       "    </tr>\n",
       "  </tbody>\n",
       "</table>\n",
       "<p>3 rows × 237 columns</p>\n",
       "</div>"
      ],
      "text/plain": [
       "         ALAND  ALAND_SQMI   AWATER  AWATER_SQMI    BOROUGH  FRAC_LAND  \\\n",
       "10001   346238       0.133        0        0.000  Manhattan   1.000000   \n",
       "10002  2063151       0.797  1249217        0.482  Manhattan   0.622863   \n",
       "10003  1097625       0.424        0        0.000  Manhattan   1.000000   \n",
       "\n",
       "              GEOID   INTPTLAT  INTPTLONG      LATMAX         ...           \\\n",
       "10001   72122017100  40.747402 -73.990328   81.498550         ...            \n",
       "10002  468793019212  40.715444 -73.984217  529.328659         ...            \n",
       "10003  288488038102  40.730343 -73.989634  325.855934         ...            \n",
       "\n",
       "       unweighed_average_rating_restaurants_italian  \\\n",
       "10001                                      6.583333   \n",
       "10002                                     26.770833   \n",
       "10003                                     24.237179   \n",
       "\n",
       "       unweighed_average_rating_restaurants_japanese  \\\n",
       "10001                                       6.483333   \n",
       "10002                                      13.833333   \n",
       "10003                                      30.475000   \n",
       "\n",
       "       unweighed_average_rating_restaurants_latin  \\\n",
       "10001                                         NaN   \n",
       "10002                                      14.200   \n",
       "10003                                      12.125   \n",
       "\n",
       "      unweighed_average_rating_restaurants_mexican  \\\n",
       "10001                                     6.333333   \n",
       "10002                                    15.000000   \n",
       "10003                                    23.410256   \n",
       "\n",
       "       unweighed_average_rating_restaurants_newamerican  \\\n",
       "10001                                          7.708333   \n",
       "10002                                         19.267974   \n",
       "10003                                         29.725000   \n",
       "\n",
       "      unweighed_average_rating_restaurants_puertorican  \\\n",
       "10001                                              NaN   \n",
       "10002                                              NaN   \n",
       "10003                                              NaN   \n",
       "\n",
       "       unweighed_average_rating_restaurants_tradamerican  \\\n",
       "10001                                           6.671429   \n",
       "10002                                          22.375000   \n",
       "10003                                          28.351190   \n",
       "\n",
       "      unweighed_average_rating_restaurants_vegetarian  zillow_house_index  \\\n",
       "10001                                        8.250000                   0   \n",
       "10002                                        8.000000                   0   \n",
       "10003                                       26.233333                   0   \n",
       "\n",
       "       zillow_house_median  \n",
       "10001                    0  \n",
       "10002                    0  \n",
       "10003                    0  \n",
       "\n",
       "[3 rows x 237 columns]"
      ]
     },
     "execution_count": 95,
     "metadata": {},
     "output_type": "execute_result"
    }
   ],
   "source": [
    "#Load master dataframe\n",
    "df = pd.read_json(\"../data/underserved_data.json\")\n",
    "df.head(3)"
   ]
  },
  {
   "cell_type": "code",
   "execution_count": 173,
   "metadata": {
    "collapsed": true
   },
   "outputs": [],
   "source": [
    "cuisine_type = \"chinese\"\n",
    "deviation_linear = \"dx_linear_\"+cuisine_type\n",
    "deviation_rf = \"dx_rf_\"+cuisine_type\n",
    "feature_cuisine = \"number_restaurants_\"+cuisine_type\n",
    "feature_cuisine_capita = \"number_restaurants_capita_\"+cuisine_type"
   ]
  },
  {
   "cell_type": "code",
   "execution_count": 174,
   "metadata": {
    "collapsed": false
   },
   "outputs": [
    {
     "data": {
      "text/html": [
       "<div style=\"max-height:1000px;max-width:1500px;overflow:auto;\">\n",
       "<table border=\"1\" class=\"dataframe\">\n",
       "  <thead>\n",
       "    <tr style=\"text-align: right;\">\n",
       "      <th></th>\n",
       "      <th>pop_total</th>\n",
       "      <th>number_restaurants_chinese</th>\n",
       "      <th>number_restaurants_capita_chinese</th>\n",
       "      <th>dx_linear_chinese</th>\n",
       "      <th>dx_rf_chinese</th>\n",
       "    </tr>\n",
       "  </thead>\n",
       "  <tbody>\n",
       "    <tr>\n",
       "      <th>10301</th>\n",
       "      <td>24256</td>\n",
       "      <td>0</td>\n",
       "      <td>0.000000</td>\n",
       "      <td>-0.482253</td>\n",
       "      <td>-1.155074</td>\n",
       "    </tr>\n",
       "    <tr>\n",
       "      <th>10304</th>\n",
       "      <td>34699</td>\n",
       "      <td>0</td>\n",
       "      <td>0.000000</td>\n",
       "      <td>-0.786807</td>\n",
       "      <td>-1.266155</td>\n",
       "    </tr>\n",
       "    <tr>\n",
       "      <th>11451</th>\n",
       "      <td>0</td>\n",
       "      <td>0</td>\n",
       "      <td>0.000000</td>\n",
       "      <td>-0.095032</td>\n",
       "      <td>-0.254314</td>\n",
       "    </tr>\n",
       "    <tr>\n",
       "      <th>10153</th>\n",
       "      <td>279</td>\n",
       "      <td>0</td>\n",
       "      <td>0.000000</td>\n",
       "      <td>-0.764224</td>\n",
       "      <td>-0.560290</td>\n",
       "    </tr>\n",
       "    <tr>\n",
       "      <th>10069</th>\n",
       "      <td>26332</td>\n",
       "      <td>0</td>\n",
       "      <td>0.000000</td>\n",
       "      <td>-0.813061</td>\n",
       "      <td>-1.894180</td>\n",
       "    </tr>\n",
       "    <tr>\n",
       "      <th>11371</th>\n",
       "      <td>0</td>\n",
       "      <td>2</td>\n",
       "      <td>0.000000</td>\n",
       "      <td>0.131108</td>\n",
       "      <td>0.196406</td>\n",
       "    </tr>\n",
       "    <tr>\n",
       "      <th>10024</th>\n",
       "      <td>64742</td>\n",
       "      <td>2</td>\n",
       "      <td>0.250793</td>\n",
       "      <td>-1.364955</td>\n",
       "      <td>-1.635084</td>\n",
       "    </tr>\n",
       "    <tr>\n",
       "      <th>10457</th>\n",
       "      <td>61476</td>\n",
       "      <td>2</td>\n",
       "      <td>0.272504</td>\n",
       "      <td>-0.905288</td>\n",
       "      <td>-1.006165</td>\n",
       "    </tr>\n",
       "    <tr>\n",
       "      <th>11428</th>\n",
       "      <td>34882</td>\n",
       "      <td>1</td>\n",
       "      <td>0.286681</td>\n",
       "      <td>-0.226040</td>\n",
       "      <td>-1.220155</td>\n",
       "    </tr>\n",
       "    <tr>\n",
       "      <th>11203</th>\n",
       "      <td>58321</td>\n",
       "      <td>2</td>\n",
       "      <td>0.298784</td>\n",
       "      <td>-0.566218</td>\n",
       "      <td>-1.211804</td>\n",
       "    </tr>\n",
       "    <tr>\n",
       "      <th>10473</th>\n",
       "      <td>58827</td>\n",
       "      <td>2</td>\n",
       "      <td>0.319102</td>\n",
       "      <td>-0.760809</td>\n",
       "      <td>-0.690542</td>\n",
       "    </tr>\n",
       "    <tr>\n",
       "      <th>11413</th>\n",
       "      <td>29468</td>\n",
       "      <td>1</td>\n",
       "      <td>0.339351</td>\n",
       "      <td>-0.346163</td>\n",
       "      <td>-0.850541</td>\n",
       "    </tr>\n",
       "    <tr>\n",
       "      <th>11692</th>\n",
       "      <td>22383</td>\n",
       "      <td>1</td>\n",
       "      <td>0.361251</td>\n",
       "      <td>-0.397343</td>\n",
       "      <td>-0.630931</td>\n",
       "    </tr>\n",
       "    <tr>\n",
       "      <th>10030</th>\n",
       "      <td>19425</td>\n",
       "      <td>1</td>\n",
       "      <td>0.386574</td>\n",
       "      <td>-0.503370</td>\n",
       "      <td>-0.350058</td>\n",
       "    </tr>\n",
       "    <tr>\n",
       "      <th>11423</th>\n",
       "      <td>20351</td>\n",
       "      <td>1</td>\n",
       "      <td>0.392535</td>\n",
       "      <td>-0.158609</td>\n",
       "      <td>-0.452986</td>\n",
       "    </tr>\n",
       "    <tr>\n",
       "      <th>10308</th>\n",
       "      <td>20276</td>\n",
       "      <td>1</td>\n",
       "      <td>0.402071</td>\n",
       "      <td>-0.481460</td>\n",
       "      <td>-1.272783</td>\n",
       "    </tr>\n",
       "    <tr>\n",
       "      <th>10453</th>\n",
       "      <td>74728</td>\n",
       "      <td>4</td>\n",
       "      <td>0.414349</td>\n",
       "      <td>-0.940740</td>\n",
       "      <td>-0.233808</td>\n",
       "    </tr>\n",
       "    <tr>\n",
       "      <th>10474</th>\n",
       "      <td>12519</td>\n",
       "      <td>1</td>\n",
       "      <td>0.423036</td>\n",
       "      <td>-0.426962</td>\n",
       "      <td>-0.301908</td>\n",
       "    </tr>\n",
       "    <tr>\n",
       "      <th>11207</th>\n",
       "      <td>75225</td>\n",
       "      <td>4</td>\n",
       "      <td>0.424029</td>\n",
       "      <td>-0.482024</td>\n",
       "      <td>-0.233808</td>\n",
       "    </tr>\n",
       "    <tr>\n",
       "      <th>11426</th>\n",
       "      <td>22478</td>\n",
       "      <td>1</td>\n",
       "      <td>0.444879</td>\n",
       "      <td>0.383035</td>\n",
       "      <td>-0.645032</td>\n",
       "    </tr>\n",
       "  </tbody>\n",
       "</table>\n",
       "</div>"
      ],
      "text/plain": [
       "       pop_total  number_restaurants_chinese  \\\n",
       "10301      24256                           0   \n",
       "10304      34699                           0   \n",
       "11451          0                           0   \n",
       "10153        279                           0   \n",
       "10069      26332                           0   \n",
       "11371          0                           2   \n",
       "10024      64742                           2   \n",
       "10457      61476                           2   \n",
       "11428      34882                           1   \n",
       "11203      58321                           2   \n",
       "10473      58827                           2   \n",
       "11413      29468                           1   \n",
       "11692      22383                           1   \n",
       "10030      19425                           1   \n",
       "11423      20351                           1   \n",
       "10308      20276                           1   \n",
       "10453      74728                           4   \n",
       "10474      12519                           1   \n",
       "11207      75225                           4   \n",
       "11426      22478                           1   \n",
       "\n",
       "       number_restaurants_capita_chinese  dx_linear_chinese  dx_rf_chinese  \n",
       "10301                           0.000000          -0.482253      -1.155074  \n",
       "10304                           0.000000          -0.786807      -1.266155  \n",
       "11451                           0.000000          -0.095032      -0.254314  \n",
       "10153                           0.000000          -0.764224      -0.560290  \n",
       "10069                           0.000000          -0.813061      -1.894180  \n",
       "11371                           0.000000           0.131108       0.196406  \n",
       "10024                           0.250793          -1.364955      -1.635084  \n",
       "10457                           0.272504          -0.905288      -1.006165  \n",
       "11428                           0.286681          -0.226040      -1.220155  \n",
       "11203                           0.298784          -0.566218      -1.211804  \n",
       "10473                           0.319102          -0.760809      -0.690542  \n",
       "11413                           0.339351          -0.346163      -0.850541  \n",
       "11692                           0.361251          -0.397343      -0.630931  \n",
       "10030                           0.386574          -0.503370      -0.350058  \n",
       "11423                           0.392535          -0.158609      -0.452986  \n",
       "10308                           0.402071          -0.481460      -1.272783  \n",
       "10453                           0.414349          -0.940740      -0.233808  \n",
       "10474                           0.423036          -0.426962      -0.301908  \n",
       "11207                           0.424029          -0.482024      -0.233808  \n",
       "11426                           0.444879           0.383035      -0.645032  "
      ]
     },
     "execution_count": 174,
     "metadata": {},
     "output_type": "execute_result"
    }
   ],
   "source": [
    "df.sort(columns=feature_cuisine_capita, axis=0, \n",
    "        ascending=True, inplace=False, kind='quicksort', \n",
    "        na_position='last').head(20)[[\"pop_total\",feature_cuisine,feature_cuisine_capita,\"dx_linear_\"+cuisine_type,\"dx_rf_\"+cuisine_type]]"
   ]
  },
  {
   "cell_type": "code",
   "execution_count": 178,
   "metadata": {
    "collapsed": false
   },
   "outputs": [],
   "source": [
    "subdf = df.sort(columns=deviation_linear, axis=0, \n",
    "        ascending=True, inplace=False, kind='quicksort', \n",
    "        na_position='last').head(10)[[\"BOROUGH\",\"pop_total\",feature_cuisine,feature_cuisine_capita,\"dx_linear_\"+cuisine_type]]"
   ]
  },
  {
   "cell_type": "code",
   "execution_count": 179,
   "metadata": {
    "collapsed": false
   },
   "outputs": [],
   "source": [
    "zipcodes = [str(int(x)) for x in subdf.index.values.tolist()]"
   ]
  },
  {
   "cell_type": "code",
   "execution_count": 186,
   "metadata": {
    "collapsed": false
   },
   "outputs": [],
   "source": [
    "deviations = [\"{0:<5.1f}\".format(x).strip() for x in subdf[\"dx_linear_chinese\"].tolist()]\n",
    "dfsub = subdf"
   ]
  },
  {
   "cell_type": "code",
   "execution_count": 187,
   "metadata": {
    "collapsed": false
   },
   "outputs": [],
   "source": [
    "boroughs = dfsub.BOROUGH.tolist()\n",
    "deviation = dfsub[\"dx_linear_\"+cuisine_type]\n",
    "deviations = [\"{0:<5.1f}\".format(x).strip() for x in subdf[\"dx_linear_\"+cuisine_type].tolist()]\n",
    "zipcodes = [str(int(x)) for x in subdf.index.values.tolist()]"
   ]
  },
  {
   "cell_type": "code",
   "execution_count": 190,
   "metadata": {
    "collapsed": false
   },
   "outputs": [
    {
     "data": {
      "text/plain": [
       "[('11377', u'Queens', '-3.8'),\n",
       " ('11373', u'Queens', '-3.4'),\n",
       " ('11219', u'Brooklyn', '-2.6'),\n",
       " ('11228', u'Brooklyn', '-2.5'),\n",
       " ('11364', u'Queens', '-2.5'),\n",
       " ('11358', u'Queens', '-1.9'),\n",
       " ('11230', u'Brooklyn', '-1.6'),\n",
       " ('11357', u'Queens', '-1.5'),\n",
       " ('10025', u'Manhattan', '-1.4'),\n",
       " ('10024', u'Manhattan', '-1.4')]"
      ]
     },
     "execution_count": 190,
     "metadata": {},
     "output_type": "execute_result"
    }
   ],
   "source": [
    "zip(zipcodes,boroughs,deviations)"
   ]
  },
  {
   "cell_type": "code",
   "execution_count": 81,
   "metadata": {
    "collapsed": false
   },
   "outputs": [
    {
     "data": {
      "text/html": [
       "<div style=\"max-height:1000px;max-width:1500px;overflow:auto;\">\n",
       "<table border=\"1\" class=\"dataframe\">\n",
       "  <thead>\n",
       "    <tr style=\"text-align: right;\">\n",
       "      <th></th>\n",
       "      <th>BOROUGH</th>\n",
       "      <th>pop_total</th>\n",
       "      <th>number_restaurants_japanese</th>\n",
       "      <th>number_restaurants_capita_japanese</th>\n",
       "      <th>dx_linear_japanese</th>\n",
       "    </tr>\n",
       "  </thead>\n",
       "  <tbody>\n",
       "    <tr>\n",
       "      <th>10019</th>\n",
       "      <td>Manhattan</td>\n",
       "      <td>28918</td>\n",
       "      <td>17</td>\n",
       "      <td>1.443616</td>\n",
       "      <td>-1.211844</td>\n",
       "    </tr>\n",
       "    <tr>\n",
       "      <th>10279</th>\n",
       "      <td>Manhattan</td>\n",
       "      <td>6111</td>\n",
       "      <td>4</td>\n",
       "      <td>0.670826</td>\n",
       "      <td>-1.730356</td>\n",
       "    </tr>\n",
       "    <tr>\n",
       "      <th>10023</th>\n",
       "      <td>Manhattan</td>\n",
       "      <td>33547</td>\n",
       "      <td>10</td>\n",
       "      <td>0.875750</td>\n",
       "      <td>-2.461520</td>\n",
       "    </tr>\n",
       "    <tr>\n",
       "      <th>11228</th>\n",
       "      <td>Brooklyn</td>\n",
       "      <td>53712</td>\n",
       "      <td>0</td>\n",
       "      <td>0.000000</td>\n",
       "      <td>-1.381975</td>\n",
       "    </tr>\n",
       "    <tr>\n",
       "      <th>10007</th>\n",
       "      <td>Manhattan</td>\n",
       "      <td>3776</td>\n",
       "      <td>2</td>\n",
       "      <td>3.451804</td>\n",
       "      <td>-0.473823</td>\n",
       "    </tr>\n",
       "    <tr>\n",
       "      <th>11363</th>\n",
       "      <td>Queens</td>\n",
       "      <td>7520</td>\n",
       "      <td>0</td>\n",
       "      <td>0.000000</td>\n",
       "      <td>-0.938486</td>\n",
       "    </tr>\n",
       "    <tr>\n",
       "      <th>10010</th>\n",
       "      <td>Manhattan</td>\n",
       "      <td>25240</td>\n",
       "      <td>19</td>\n",
       "      <td>2.084881</td>\n",
       "      <td>-0.084022</td>\n",
       "    </tr>\n",
       "    <tr>\n",
       "      <th>10028</th>\n",
       "      <td>Manhattan</td>\n",
       "      <td>13696</td>\n",
       "      <td>1</td>\n",
       "      <td>0.306679</td>\n",
       "      <td>-1.498793</td>\n",
       "    </tr>\n",
       "    <tr>\n",
       "      <th>10065</th>\n",
       "      <td>Manhattan</td>\n",
       "      <td>36486</td>\n",
       "      <td>10</td>\n",
       "      <td>1.270512</td>\n",
       "      <td>-1.070494</td>\n",
       "    </tr>\n",
       "    <tr>\n",
       "      <th>10119</th>\n",
       "      <td>Manhattan</td>\n",
       "      <td>1119</td>\n",
       "      <td>1</td>\n",
       "      <td>0.554834</td>\n",
       "      <td>-0.326713</td>\n",
       "    </tr>\n",
       "  </tbody>\n",
       "</table>\n",
       "</div>"
      ],
      "text/plain": [
       "         BOROUGH  pop_total  number_restaurants_japanese  \\\n",
       "10019  Manhattan      28918                           17   \n",
       "10279  Manhattan       6111                            4   \n",
       "10023  Manhattan      33547                           10   \n",
       "11228   Brooklyn      53712                            0   \n",
       "10007  Manhattan       3776                            2   \n",
       "11363     Queens       7520                            0   \n",
       "10010  Manhattan      25240                           19   \n",
       "10028  Manhattan      13696                            1   \n",
       "10065  Manhattan      36486                           10   \n",
       "10119  Manhattan       1119                            1   \n",
       "\n",
       "       number_restaurants_capita_japanese  dx_linear_japanese  \n",
       "10019                            1.443616           -1.211844  \n",
       "10279                            0.670826           -1.730356  \n",
       "10023                            0.875750           -2.461520  \n",
       "11228                            0.000000           -1.381975  \n",
       "10007                            3.451804           -0.473823  \n",
       "11363                            0.000000           -0.938486  \n",
       "10010                            2.084881           -0.084022  \n",
       "10028                            0.306679           -1.498793  \n",
       "10065                            1.270512           -1.070494  \n",
       "10119                            0.554834           -0.326713  "
      ]
     },
     "execution_count": 81,
     "metadata": {},
     "output_type": "execute_result"
    }
   ],
   "source": [
    "df.sort(columns=deviation_rf, axis=0, \n",
    "        ascending=True, inplace=False, kind='quicksort', \n",
    "        na_position='last').head(10)[[\"BOROUGH\",\"pop_total\",feature_cuisine,feature_cuisine_capita,\"dx_linear_\"+cuisine_type]]"
   ]
  },
  {
   "cell_type": "code",
   "execution_count": null,
   "metadata": {
    "collapsed": true
   },
   "outputs": [],
   "source": []
  },
  {
   "cell_type": "code",
   "execution_count": 80,
   "metadata": {
    "collapsed": false
   },
   "outputs": [
    {
     "name": "stdout",
     "output_type": "stream",
     "text": [
      "('R2_Linear = ', 0.53502746210000007)\n",
      "('R2_RF = ', 0.85859689700000008)\n",
      "('StdDev_Linear = ', 5.2279502078000002)\n",
      "('StdDev_RF = ', 2.8823473916999998)\n"
     ]
    }
   ],
   "source": [
    "print(\"R2_Linear = \",df[\"r2_linear_\"+cuisine_type].unique()[0])\n",
    "print(\"R2_RF = \",df[\"r2_rf_\"+cuisine_type].unique()[0])\n",
    "print(\"StdDev_Linear = \",df[\"stddev_linear_\"+cuisine_type].unique()[0])\n",
    "print(\"StdDev_RF = \",df[\"stddev_rf_\"+cuisine_type].unique()[0])"
   ]
  },
  {
   "cell_type": "code",
   "execution_count": null,
   "metadata": {
    "collapsed": true
   },
   "outputs": [],
   "source": []
  },
  {
   "cell_type": "code",
   "execution_count": null,
   "metadata": {
    "collapsed": true
   },
   "outputs": [],
   "source": []
  }
 ],
 "metadata": {
  "kernelspec": {
   "display_name": "Python 2",
   "language": "python",
   "name": "python2"
  },
  "language_info": {
   "codemirror_mode": {
    "name": "ipython",
    "version": 2
   },
   "file_extension": ".py",
   "mimetype": "text/x-python",
   "name": "python",
   "nbconvert_exporter": "python",
   "pygments_lexer": "ipython2",
   "version": "2.7.10"
  }
 },
 "nbformat": 4,
 "nbformat_minor": 0
}
