{
 "cells": [
  {
   "cell_type": "code",
   "execution_count": 1,
   "metadata": {
    "collapsed": true
   },
   "outputs": [],
   "source": [
    "%matplotlib inline\n",
    "import matplotlib as mpl\n",
    "import numpy as np\n",
    "import pandas as pd\n",
    "import matplotlib.pyplot as plt\n",
    "import api_import \n",
    "import simplejson as json"
   ]
  },
  {
   "cell_type": "code",
   "execution_count": 2,
   "metadata": {
    "collapsed": false
   },
   "outputs": [],
   "source": [
    "yelp = pd.read_json(\"../data/yelp/yelp_api_data.json\")\n",
    "with open(\"../data/yelp/yelp_api_data.json\") as fp:\n",
    "    json1_str = fp.read() \n",
    "    yelp = json.loads(json1_str)\n",
    "cuisine_types = yelp.keys()\n",
    "with open(\"../data/yelp/cuisine_types_enabled.dat\",\"w\") as fp:\n",
    "    fp.write(\"\\n\".join(cuisine_types))"
   ]
  },
  {
   "cell_type": "code",
   "execution_count": 3,
   "metadata": {
    "collapsed": false
   },
   "outputs": [
    {
     "data": {
      "text/plain": [
       "['puertorican',\n",
       " 'cuban',\n",
       " 'latin',\n",
       " 'mexican',\n",
       " 'chinese',\n",
       " 'vegetarian',\n",
       " 'indpak',\n",
       " 'japanese',\n",
       " 'greek',\n",
       " 'tradamerican',\n",
       " 'newamerican',\n",
       " 'italian']"
      ]
     },
     "execution_count": 3,
     "metadata": {},
     "output_type": "execute_result"
    }
   ],
   "source": [
    "cuisine_types"
   ]
  },
  {
   "cell_type": "code",
   "execution_count": 4,
   "metadata": {
    "collapsed": true
   },
   "outputs": [],
   "source": [
    "food_dict = {\"puertorico\": \"puertorican\",\n",
    "\"puertorican\": \"puertorican\",\n",
    "\"cuba\": \"cuban\",\n",
    "\"cuban\": \"cuban\",\n",
    "\"latin\" : \"latin\",\n",
    "\"latino\": \"latin\",\n",
    "\"mexican\": \"mexican\",\n",
    "\"mex\": \"mexican\",\n",
    "\"mexico\": \"mexican\",\n",
    "\"chinese\": \"chinese\",\n",
    "\"china\": \"chinese\",\n",
    "\"veggie\": \"vegetarian\",\n",
    "\"vegetarian\": \"vegetarian\",\n",
    "\"indian\": \"indpak\",\n",
    "\"india\": \"indpak\",\n",
    "\"japan\": \"japanese\",\n",
    "\"japanese\": \"japanese\",\n",
    "\"greek\": \"greek\",\n",
    "\"american\": \"tradamerican\",\n",
    "\"modern\": \"newamerican\",\n",
    "\"italy\": \"italian\",\n",
    "\"italian\": \"italian\"\n",
    "}"
   ]
  },
  {
   "cell_type": "code",
   "execution_count": 5,
   "metadata": {
    "collapsed": false
   },
   "outputs": [
    {
     "data": {
      "text/plain": [
       "{'american': 'tradamerican',\n",
       " 'china': 'chinese',\n",
       " 'chinese': 'chinese',\n",
       " 'cuba': 'cuban',\n",
       " 'cuban': 'cuban',\n",
       " 'greek': 'greek',\n",
       " 'india': 'indpak',\n",
       " 'indian': 'indpak',\n",
       " 'italian': 'italian',\n",
       " 'italy': 'italian',\n",
       " 'japan': 'japanese',\n",
       " 'japanese': 'japanese',\n",
       " 'latin': 'latin',\n",
       " 'latino': 'latin',\n",
       " 'mex': 'mexican',\n",
       " 'mexican': 'mexican',\n",
       " 'mexico': 'mexican',\n",
       " 'modern': 'newamerican',\n",
       " 'puertorican': 'puertorican',\n",
       " 'puertorico': 'puertorican',\n",
       " 'vegetarian': 'vegetarian',\n",
       " 'veggie': 'vegetarian'}"
      ]
     },
     "execution_count": 5,
     "metadata": {},
     "output_type": "execute_result"
    }
   ],
   "source": [
    "food_dict"
   ]
  },
  {
   "cell_type": "code",
   "execution_count": 6,
   "metadata": {
    "collapsed": false
   },
   "outputs": [
    {
     "data": {
      "text/plain": [
       "list"
      ]
     },
     "execution_count": 6,
     "metadata": {},
     "output_type": "execute_result"
    }
   ],
   "source": [
    "import string\n",
    "with open(\"../app/static/dat/cuisine_types_enabled.dat\") as fp:\n",
    "    cuisine_types = fp.read()\n",
    "cuisine_types = cuisine_types.split()\n",
    "type(cuisine_types)\n",
    "#cuisine_types = [string.capwords(x) for x in cuisine_types]\n",
    "#cuisine_types = [x for x in cuisine_types]\n",
    "#cuisine_types"
   ]
  },
  {
   "cell_type": "code",
   "execution_count": 7,
   "metadata": {
    "collapsed": false
   },
   "outputs": [],
   "source": [
    "with open(\"../data/yelp/cuisine_types_enabled.json\",\"w\") as fp:\n",
    "    json.dump(food_dict,fp)"
   ]
  },
  {
   "cell_type": "code",
   "execution_count": 8,
   "metadata": {
    "collapsed": false
   },
   "outputs": [],
   "source": [
    "with open(\"../data/yelp/cuisine_types_enabled.json\",\"r\") as fp:\n",
    "    cuisine_dict = json.load(fp)"
   ]
  },
  {
   "cell_type": "code",
   "execution_count": 16,
   "metadata": {
    "collapsed": false
   },
   "outputs": [
    {
     "data": {
      "text/plain": [
       "10001    manhattan\n",
       "10002    manhattan\n",
       "10003    manhattan\n",
       "10007    manhattan\n",
       "10009    manhattan\n",
       "10010    manhattan\n",
       "10011    manhattan\n",
       "10012    manhattan\n",
       "10013    manhattan\n",
       "10014    manhattan\n",
       "10016    manhattan\n",
       "10018    manhattan\n",
       "10019    manhattan\n",
       "10021    manhattan\n",
       "10022    manhattan\n",
       "10023    manhattan\n",
       "10024    manhattan\n",
       "10025    manhattan\n",
       "10026    manhattan\n",
       "10027    manhattan\n",
       "10028    manhattan\n",
       "10029    manhattan\n",
       "10030    manhattan\n",
       "10031    manhattan\n",
       "10032    manhattan\n",
       "10033    manhattan\n",
       "10034    manhattan\n",
       "10035    manhattan\n",
       "10036    manhattan\n",
       "10037    manhattan\n",
       "           ...    \n",
       "11379       queens\n",
       "11385       queens\n",
       "11411       queens\n",
       "11412       queens\n",
       "11413       queens\n",
       "11414       queens\n",
       "11415       queens\n",
       "11416       queens\n",
       "11417       queens\n",
       "11418       queens\n",
       "11419       queens\n",
       "11420       queens\n",
       "11421       queens\n",
       "11422       queens\n",
       "11423       queens\n",
       "11424       queens\n",
       "11426       queens\n",
       "11427       queens\n",
       "11428       queens\n",
       "11429       queens\n",
       "11430       queens\n",
       "11432       queens\n",
       "11433       queens\n",
       "11434       queens\n",
       "11435       queens\n",
       "11436       queens\n",
       "11451       queens\n",
       "11691       queens\n",
       "11692       queens\n",
       "11693       queens\n",
       "Name: BOROUGH, dtype: object"
      ]
     },
     "execution_count": 16,
     "metadata": {},
     "output_type": "execute_result"
    }
   ],
   "source": [
    "#Load master dataframe\n",
    "df = pd.read_json(\"../data/underserved_data.json\")\n",
    "df.head(3)\n",
    "df.BOROUGH.str.lower()"
   ]
  },
  {
   "cell_type": "code",
   "execution_count": 173,
   "metadata": {
    "collapsed": true
   },
   "outputs": [],
   "source": [
    "cuisine_type = \"chinese\"\n",
    "deviation_linear = \"dx_linear_\"+cuisine_type\n",
    "deviation_rf = \"dx_rf_\"+cuisine_type\n",
    "feature_cuisine = \"number_restaurants_\"+cuisine_type\n",
    "feature_cuisine_capita = \"number_restaurants_capita_\"+cuisine_type"
   ]
  },
  {
   "cell_type": "code",
   "execution_count": 174,
   "metadata": {
    "collapsed": false
   },
   "outputs": [
    {
     "data": {
      "text/html": [
       "<div style=\"max-height:1000px;max-width:1500px;overflow:auto;\">\n",
       "<table border=\"1\" class=\"dataframe\">\n",
       "  <thead>\n",
       "    <tr style=\"text-align: right;\">\n",
       "      <th></th>\n",
       "      <th>pop_total</th>\n",
       "      <th>number_restaurants_chinese</th>\n",
       "      <th>number_restaurants_capita_chinese</th>\n",
       "      <th>dx_linear_chinese</th>\n",
       "      <th>dx_rf_chinese</th>\n",
       "    </tr>\n",
       "  </thead>\n",
       "  <tbody>\n",
       "    <tr>\n",
       "      <th>10301</th>\n",
       "      <td>24256</td>\n",
       "      <td>0</td>\n",
       "      <td>0.000000</td>\n",
       "      <td>-0.482253</td>\n",
       "      <td>-1.155074</td>\n",
       "    </tr>\n",
       "    <tr>\n",
       "      <th>10304</th>\n",
       "      <td>34699</td>\n",
       "      <td>0</td>\n",
       "      <td>0.000000</td>\n",
       "      <td>-0.786807</td>\n",
       "      <td>-1.266155</td>\n",
       "    </tr>\n",
       "    <tr>\n",
       "      <th>11451</th>\n",
       "      <td>0</td>\n",
       "      <td>0</td>\n",
       "      <td>0.000000</td>\n",
       "      <td>-0.095032</td>\n",
       "      <td>-0.254314</td>\n",
       "    </tr>\n",
       "    <tr>\n",
       "      <th>10153</th>\n",
       "      <td>279</td>\n",
       "      <td>0</td>\n",
       "      <td>0.000000</td>\n",
       "      <td>-0.764224</td>\n",
       "      <td>-0.560290</td>\n",
       "    </tr>\n",
       "    <tr>\n",
       "      <th>10069</th>\n",
       "      <td>26332</td>\n",
       "      <td>0</td>\n",
       "      <td>0.000000</td>\n",
       "      <td>-0.813061</td>\n",
       "      <td>-1.894180</td>\n",
       "    </tr>\n",
       "    <tr>\n",
       "      <th>11371</th>\n",
       "      <td>0</td>\n",
       "      <td>2</td>\n",
       "      <td>0.000000</td>\n",
       "      <td>0.131108</td>\n",
       "      <td>0.196406</td>\n",
       "    </tr>\n",
       "    <tr>\n",
       "      <th>10024</th>\n",
       "      <td>64742</td>\n",
       "      <td>2</td>\n",
       "      <td>0.250793</td>\n",
       "      <td>-1.364955</td>\n",
       "      <td>-1.635084</td>\n",
       "    </tr>\n",
       "    <tr>\n",
       "      <th>10457</th>\n",
       "      <td>61476</td>\n",
       "      <td>2</td>\n",
       "      <td>0.272504</td>\n",
       "      <td>-0.905288</td>\n",
       "      <td>-1.006165</td>\n",
       "    </tr>\n",
       "    <tr>\n",
       "      <th>11428</th>\n",
       "      <td>34882</td>\n",
       "      <td>1</td>\n",
       "      <td>0.286681</td>\n",
       "      <td>-0.226040</td>\n",
       "      <td>-1.220155</td>\n",
       "    </tr>\n",
       "    <tr>\n",
       "      <th>11203</th>\n",
       "      <td>58321</td>\n",
       "      <td>2</td>\n",
       "      <td>0.298784</td>\n",
       "      <td>-0.566218</td>\n",
       "      <td>-1.211804</td>\n",
       "    </tr>\n",
       "    <tr>\n",
       "      <th>10473</th>\n",
       "      <td>58827</td>\n",
       "      <td>2</td>\n",
       "      <td>0.319102</td>\n",
       "      <td>-0.760809</td>\n",
       "      <td>-0.690542</td>\n",
       "    </tr>\n",
       "    <tr>\n",
       "      <th>11413</th>\n",
       "      <td>29468</td>\n",
       "      <td>1</td>\n",
       "      <td>0.339351</td>\n",
       "      <td>-0.346163</td>\n",
       "      <td>-0.850541</td>\n",
       "    </tr>\n",
       "    <tr>\n",
       "      <th>11692</th>\n",
       "      <td>22383</td>\n",
       "      <td>1</td>\n",
       "      <td>0.361251</td>\n",
       "      <td>-0.397343</td>\n",
       "      <td>-0.630931</td>\n",
       "    </tr>\n",
       "    <tr>\n",
       "      <th>10030</th>\n",
       "      <td>19425</td>\n",
       "      <td>1</td>\n",
       "      <td>0.386574</td>\n",
       "      <td>-0.503370</td>\n",
       "      <td>-0.350058</td>\n",
       "    </tr>\n",
       "    <tr>\n",
       "      <th>11423</th>\n",
       "      <td>20351</td>\n",
       "      <td>1</td>\n",
       "      <td>0.392535</td>\n",
       "      <td>-0.158609</td>\n",
       "      <td>-0.452986</td>\n",
       "    </tr>\n",
       "    <tr>\n",
       "      <th>10308</th>\n",
       "      <td>20276</td>\n",
       "      <td>1</td>\n",
       "      <td>0.402071</td>\n",
       "      <td>-0.481460</td>\n",
       "      <td>-1.272783</td>\n",
       "    </tr>\n",
       "    <tr>\n",
       "      <th>10453</th>\n",
       "      <td>74728</td>\n",
       "      <td>4</td>\n",
       "      <td>0.414349</td>\n",
       "      <td>-0.940740</td>\n",
       "      <td>-0.233808</td>\n",
       "    </tr>\n",
       "    <tr>\n",
       "      <th>10474</th>\n",
       "      <td>12519</td>\n",
       "      <td>1</td>\n",
       "      <td>0.423036</td>\n",
       "      <td>-0.426962</td>\n",
       "      <td>-0.301908</td>\n",
       "    </tr>\n",
       "    <tr>\n",
       "      <th>11207</th>\n",
       "      <td>75225</td>\n",
       "      <td>4</td>\n",
       "      <td>0.424029</td>\n",
       "      <td>-0.482024</td>\n",
       "      <td>-0.233808</td>\n",
       "    </tr>\n",
       "    <tr>\n",
       "      <th>11426</th>\n",
       "      <td>22478</td>\n",
       "      <td>1</td>\n",
       "      <td>0.444879</td>\n",
       "      <td>0.383035</td>\n",
       "      <td>-0.645032</td>\n",
       "    </tr>\n",
       "  </tbody>\n",
       "</table>\n",
       "</div>"
      ],
      "text/plain": [
       "       pop_total  number_restaurants_chinese  \\\n",
       "10301      24256                           0   \n",
       "10304      34699                           0   \n",
       "11451          0                           0   \n",
       "10153        279                           0   \n",
       "10069      26332                           0   \n",
       "11371          0                           2   \n",
       "10024      64742                           2   \n",
       "10457      61476                           2   \n",
       "11428      34882                           1   \n",
       "11203      58321                           2   \n",
       "10473      58827                           2   \n",
       "11413      29468                           1   \n",
       "11692      22383                           1   \n",
       "10030      19425                           1   \n",
       "11423      20351                           1   \n",
       "10308      20276                           1   \n",
       "10453      74728                           4   \n",
       "10474      12519                           1   \n",
       "11207      75225                           4   \n",
       "11426      22478                           1   \n",
       "\n",
       "       number_restaurants_capita_chinese  dx_linear_chinese  dx_rf_chinese  \n",
       "10301                           0.000000          -0.482253      -1.155074  \n",
       "10304                           0.000000          -0.786807      -1.266155  \n",
       "11451                           0.000000          -0.095032      -0.254314  \n",
       "10153                           0.000000          -0.764224      -0.560290  \n",
       "10069                           0.000000          -0.813061      -1.894180  \n",
       "11371                           0.000000           0.131108       0.196406  \n",
       "10024                           0.250793          -1.364955      -1.635084  \n",
       "10457                           0.272504          -0.905288      -1.006165  \n",
       "11428                           0.286681          -0.226040      -1.220155  \n",
       "11203                           0.298784          -0.566218      -1.211804  \n",
       "10473                           0.319102          -0.760809      -0.690542  \n",
       "11413                           0.339351          -0.346163      -0.850541  \n",
       "11692                           0.361251          -0.397343      -0.630931  \n",
       "10030                           0.386574          -0.503370      -0.350058  \n",
       "11423                           0.392535          -0.158609      -0.452986  \n",
       "10308                           0.402071          -0.481460      -1.272783  \n",
       "10453                           0.414349          -0.940740      -0.233808  \n",
       "10474                           0.423036          -0.426962      -0.301908  \n",
       "11207                           0.424029          -0.482024      -0.233808  \n",
       "11426                           0.444879           0.383035      -0.645032  "
      ]
     },
     "execution_count": 174,
     "metadata": {},
     "output_type": "execute_result"
    }
   ],
   "source": [
    "df.sort(columns=feature_cuisine_capita, axis=0, \n",
    "        ascending=True, inplace=False, kind='quicksort', \n",
    "        na_position='last').head(20)[[\"pop_total\",feature_cuisine,feature_cuisine_capita,\"dx_linear_\"+cuisine_type,\"dx_rf_\"+cuisine_type]]"
   ]
  },
  {
   "cell_type": "code",
   "execution_count": 178,
   "metadata": {
    "collapsed": false
   },
   "outputs": [],
   "source": [
    "subdf = df.sort(columns=deviation_linear, axis=0, \n",
    "        ascending=True, inplace=False, kind='quicksort', \n",
    "        na_position='last').head(10)[[\"BOROUGH\",\"pop_total\",feature_cuisine,feature_cuisine_capita,\"dx_linear_\"+cuisine_type]]"
   ]
  },
  {
   "cell_type": "code",
   "execution_count": 179,
   "metadata": {
    "collapsed": false
   },
   "outputs": [],
   "source": [
    "zipcodes = [str(int(x)) for x in subdf.index.values.tolist()]"
   ]
  },
  {
   "cell_type": "code",
   "execution_count": 186,
   "metadata": {
    "collapsed": false
   },
   "outputs": [],
   "source": [
    "deviations = [\"{0:<5.1f}\".format(x).strip() for x in subdf[\"dx_linear_chinese\"].tolist()]\n",
    "dfsub = subdf"
   ]
  },
  {
   "cell_type": "code",
   "execution_count": 187,
   "metadata": {
    "collapsed": false
   },
   "outputs": [],
   "source": [
    "boroughs = dfsub.BOROUGH.tolist()\n",
    "deviation = dfsub[\"dx_linear_\"+cuisine_type]\n",
    "deviations = [\"{0:<5.1f}\".format(x).strip() for x in subdf[\"dx_linear_\"+cuisine_type].tolist()]\n",
    "zipcodes = [str(int(x)) for x in subdf.index.values.tolist()]"
   ]
  },
  {
   "cell_type": "code",
   "execution_count": 190,
   "metadata": {
    "collapsed": false
   },
   "outputs": [
    {
     "data": {
      "text/plain": [
       "[('11377', u'Queens', '-3.8'),\n",
       " ('11373', u'Queens', '-3.4'),\n",
       " ('11219', u'Brooklyn', '-2.6'),\n",
       " ('11228', u'Brooklyn', '-2.5'),\n",
       " ('11364', u'Queens', '-2.5'),\n",
       " ('11358', u'Queens', '-1.9'),\n",
       " ('11230', u'Brooklyn', '-1.6'),\n",
       " ('11357', u'Queens', '-1.5'),\n",
       " ('10025', u'Manhattan', '-1.4'),\n",
       " ('10024', u'Manhattan', '-1.4')]"
      ]
     },
     "execution_count": 190,
     "metadata": {},
     "output_type": "execute_result"
    }
   ],
   "source": [
    "zip(zipcodes,boroughs,deviations)"
   ]
  },
  {
   "cell_type": "code",
   "execution_count": 81,
   "metadata": {
    "collapsed": false
   },
   "outputs": [
    {
     "data": {
      "text/html": [
       "<div style=\"max-height:1000px;max-width:1500px;overflow:auto;\">\n",
       "<table border=\"1\" class=\"dataframe\">\n",
       "  <thead>\n",
       "    <tr style=\"text-align: right;\">\n",
       "      <th></th>\n",
       "      <th>BOROUGH</th>\n",
       "      <th>pop_total</th>\n",
       "      <th>number_restaurants_japanese</th>\n",
       "      <th>number_restaurants_capita_japanese</th>\n",
       "      <th>dx_linear_japanese</th>\n",
       "    </tr>\n",
       "  </thead>\n",
       "  <tbody>\n",
       "    <tr>\n",
       "      <th>10019</th>\n",
       "      <td>Manhattan</td>\n",
       "      <td>28918</td>\n",
       "      <td>17</td>\n",
       "      <td>1.443616</td>\n",
       "      <td>-1.211844</td>\n",
       "    </tr>\n",
       "    <tr>\n",
       "      <th>10279</th>\n",
       "      <td>Manhattan</td>\n",
       "      <td>6111</td>\n",
       "      <td>4</td>\n",
       "      <td>0.670826</td>\n",
       "      <td>-1.730356</td>\n",
       "    </tr>\n",
       "    <tr>\n",
       "      <th>10023</th>\n",
       "      <td>Manhattan</td>\n",
       "      <td>33547</td>\n",
       "      <td>10</td>\n",
       "      <td>0.875750</td>\n",
       "      <td>-2.461520</td>\n",
       "    </tr>\n",
       "    <tr>\n",
       "      <th>11228</th>\n",
       "      <td>Brooklyn</td>\n",
       "      <td>53712</td>\n",
       "      <td>0</td>\n",
       "      <td>0.000000</td>\n",
       "      <td>-1.381975</td>\n",
       "    </tr>\n",
       "    <tr>\n",
       "      <th>10007</th>\n",
       "      <td>Manhattan</td>\n",
       "      <td>3776</td>\n",
       "      <td>2</td>\n",
       "      <td>3.451804</td>\n",
       "      <td>-0.473823</td>\n",
       "    </tr>\n",
       "    <tr>\n",
       "      <th>11363</th>\n",
       "      <td>Queens</td>\n",
       "      <td>7520</td>\n",
       "      <td>0</td>\n",
       "      <td>0.000000</td>\n",
       "      <td>-0.938486</td>\n",
       "    </tr>\n",
       "    <tr>\n",
       "      <th>10010</th>\n",
       "      <td>Manhattan</td>\n",
       "      <td>25240</td>\n",
       "      <td>19</td>\n",
       "      <td>2.084881</td>\n",
       "      <td>-0.084022</td>\n",
       "    </tr>\n",
       "    <tr>\n",
       "      <th>10028</th>\n",
       "      <td>Manhattan</td>\n",
       "      <td>13696</td>\n",
       "      <td>1</td>\n",
       "      <td>0.306679</td>\n",
       "      <td>-1.498793</td>\n",
       "    </tr>\n",
       "    <tr>\n",
       "      <th>10065</th>\n",
       "      <td>Manhattan</td>\n",
       "      <td>36486</td>\n",
       "      <td>10</td>\n",
       "      <td>1.270512</td>\n",
       "      <td>-1.070494</td>\n",
       "    </tr>\n",
       "    <tr>\n",
       "      <th>10119</th>\n",
       "      <td>Manhattan</td>\n",
       "      <td>1119</td>\n",
       "      <td>1</td>\n",
       "      <td>0.554834</td>\n",
       "      <td>-0.326713</td>\n",
       "    </tr>\n",
       "  </tbody>\n",
       "</table>\n",
       "</div>"
      ],
      "text/plain": [
       "         BOROUGH  pop_total  number_restaurants_japanese  \\\n",
       "10019  Manhattan      28918                           17   \n",
       "10279  Manhattan       6111                            4   \n",
       "10023  Manhattan      33547                           10   \n",
       "11228   Brooklyn      53712                            0   \n",
       "10007  Manhattan       3776                            2   \n",
       "11363     Queens       7520                            0   \n",
       "10010  Manhattan      25240                           19   \n",
       "10028  Manhattan      13696                            1   \n",
       "10065  Manhattan      36486                           10   \n",
       "10119  Manhattan       1119                            1   \n",
       "\n",
       "       number_restaurants_capita_japanese  dx_linear_japanese  \n",
       "10019                            1.443616           -1.211844  \n",
       "10279                            0.670826           -1.730356  \n",
       "10023                            0.875750           -2.461520  \n",
       "11228                            0.000000           -1.381975  \n",
       "10007                            3.451804           -0.473823  \n",
       "11363                            0.000000           -0.938486  \n",
       "10010                            2.084881           -0.084022  \n",
       "10028                            0.306679           -1.498793  \n",
       "10065                            1.270512           -1.070494  \n",
       "10119                            0.554834           -0.326713  "
      ]
     },
     "execution_count": 81,
     "metadata": {},
     "output_type": "execute_result"
    }
   ],
   "source": [
    "df.sort(columns=deviation_rf, axis=0, \n",
    "        ascending=True, inplace=False, kind='quicksort', \n",
    "        na_position='last').head(10)[[\"BOROUGH\",\"pop_total\",feature_cuisine,feature_cuisine_capita,\"dx_linear_\"+cuisine_type]]"
   ]
  },
  {
   "cell_type": "code",
   "execution_count": null,
   "metadata": {
    "collapsed": true
   },
   "outputs": [],
   "source": []
  },
  {
   "cell_type": "code",
   "execution_count": 80,
   "metadata": {
    "collapsed": false
   },
   "outputs": [
    {
     "name": "stdout",
     "output_type": "stream",
     "text": [
      "('R2_Linear = ', 0.53502746210000007)\n",
      "('R2_RF = ', 0.85859689700000008)\n",
      "('StdDev_Linear = ', 5.2279502078000002)\n",
      "('StdDev_RF = ', 2.8823473916999998)\n"
     ]
    }
   ],
   "source": [
    "print(\"R2_Linear = \",df[\"r2_linear_\"+cuisine_type].unique()[0])\n",
    "print(\"R2_RF = \",df[\"r2_rf_\"+cuisine_type].unique()[0])\n",
    "print(\"StdDev_Linear = \",df[\"stddev_linear_\"+cuisine_type].unique()[0])\n",
    "print(\"StdDev_RF = \",df[\"stddev_rf_\"+cuisine_type].unique()[0])"
   ]
  },
  {
   "cell_type": "code",
   "execution_count": null,
   "metadata": {
    "collapsed": true
   },
   "outputs": [],
   "source": []
  },
  {
   "cell_type": "code",
   "execution_count": null,
   "metadata": {
    "collapsed": true
   },
   "outputs": [],
   "source": []
  }
 ],
 "metadata": {
  "kernelspec": {
   "display_name": "Python 2",
   "language": "python",
   "name": "python2"
  },
  "language_info": {
   "codemirror_mode": {
    "name": "ipython",
    "version": 2
   },
   "file_extension": ".py",
   "mimetype": "text/x-python",
   "name": "python",
   "nbconvert_exporter": "python",
   "pygments_lexer": "ipython2",
   "version": "2.7.10"
  }
 },
 "nbformat": 4,
 "nbformat_minor": 0
}
